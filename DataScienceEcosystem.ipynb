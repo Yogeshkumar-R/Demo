{
 "cells": [
  {
   "attachments": {},
   "cell_type": "markdown",
   "id": "5413d85c",
   "metadata": {},
   "source": [
    "# Data Science Tools and Ecosystem"
   ]
  },
  {
   "cell_type": "markdown",
   "id": "c819be0b",
   "metadata": {},
   "source": [
    "In this notebook, Data Science Tools and Ecosystem are summarized."
   ]
  },
  {
   "cell_type": "markdown",
   "id": "f004113a",
   "metadata": {},
   "source": [
    "**Objectives:**\n",
    "* Data Management Tools\n",
    "* Data Integration and Transformation Tools \n",
    "* Data Visualization Tools\n",
    "* Code Asset Management Tools\n",
    "* Development Environments"
   ]
  },
  {
   "cell_type": "markdown",
   "id": "44a765fb",
   "metadata": {},
   "source": [
    "Some of the popular languages that Data Scientists use are:\n",
    "\n",
    "1. Python\n",
    "2. C++\n",
    "3. Ruby\n",
    "4. Julia"
   ]
  },
  {
   "cell_type": "markdown",
   "id": "b91484e3",
   "metadata": {},
   "source": [
    "Some of the commonly used libraries used by Data Scientists include:\n",
    "\n",
    "1. Keras\n",
    "2. TensorFlow\n",
    "3. Numpy\n",
    "4. Pandas"
   ]
  },
  {
   "cell_type": "markdown",
   "id": "cd91868d",
   "metadata": {},
   "source": [
    "| Data Science Tools |\n",
    "|--------------------|\n",
    "| Juypter Notebook |\n",
    "| Juypter Lab |\n",
    "| RStudio |"
   ]
  },
  {
   "cell_type": "markdown",
   "id": "e2045b95",
   "metadata": {},
   "source": [
    "### Below are a few examples of evaluating arithmetic expressions in Python"
   ]
  },
  {
   "cell_type": "code",
   "execution_count": 7,
   "id": "e05fcb62",
   "metadata": {},
   "outputs": [
    {
     "data": {
      "text/plain": [
       "17"
      ]
     },
     "execution_count": 7,
     "metadata": {},
     "output_type": "execute_result"
    }
   ],
   "source": [
    "(3*4)+5\n",
    "#This a simple arithmetic expression to mutiply then add integers"
   ]
  },
  {
   "cell_type": "code",
   "execution_count": 9,
   "id": "e1f881d3",
   "metadata": {},
   "outputs": [
    {
     "data": {
      "text/plain": [
       "3.3333333333333335"
      ]
     },
     "execution_count": 9,
     "metadata": {},
     "output_type": "execute_result"
    }
   ],
   "source": [
    "200/60\n",
    "# This will convert 200 minutes to hours by diving by 60"
   ]
  },
  {
   "cell_type": "markdown",
   "id": "151af857",
   "metadata": {},
   "source": [
    "## Author\n",
    "<a href=\"www.google.com\">Yogeshkumar R</a>"
   ]
  },
  {
   "cell_type": "markdown",
   "id": "b33deac1",
   "metadata": {},
   "source": [
    "<a href=\"https://github.com/Yogeshkumar-R/Demo#demo\">Yogeshkumar R Github</a>"
   ]
  },
  {
   "cell_type": "code",
   "execution_count": null,
   "id": "2a4471a9",
   "metadata": {},
   "outputs": [],
   "source": []
  }
 ],
 "metadata": {
  "kernelspec": {
   "display_name": "Python 3 (ipykernel)",
   "language": "python",
   "name": "python3"
  },
  "language_info": {
   "codemirror_mode": {
    "name": "ipython",
    "version": 3
   },
   "file_extension": ".py",
   "mimetype": "text/x-python",
   "name": "python",
   "nbconvert_exporter": "python",
   "pygments_lexer": "ipython3",
   "version": "3.11.3"
  }
 },
 "nbformat": 4,
 "nbformat_minor": 5
}
